{
 "cells": [
  {
   "cell_type": "code",
   "execution_count": 1,
   "metadata": {},
   "outputs": [],
   "source": [
    "import numpy as np\n",
    "import pandas as pd\n",
    "import matplotlib\n",
    "import matplotlib.pyplot as plt\n",
    "import keras\n",
    "import random\n",
    "from sklearn.neighbors import KNeighborsClassifier\n",
    "from sklearn.svm import SVC\n",
    "from sklearn.preprocessing import OneHotEncoder, LabelEncoder, StandardScaler\n",
    "from sklearn.model_selection import GridSearchCV\n",
    "from sklearn.inspection import permutation_importance\n",
    "\n",
    "import seaborn as sns"
   ]
  },
  {
   "cell_type": "code",
   "execution_count": 2,
   "metadata": {},
   "outputs": [
    {
     "data": {
      "text/html": [
       "<div>\n",
       "<style scoped>\n",
       "    .dataframe tbody tr th:only-of-type {\n",
       "        vertical-align: middle;\n",
       "    }\n",
       "\n",
       "    .dataframe tbody tr th {\n",
       "        vertical-align: top;\n",
       "    }\n",
       "\n",
       "    .dataframe thead th {\n",
       "        text-align: right;\n",
       "    }\n",
       "</style>\n",
       "<table border=\"1\" class=\"dataframe\">\n",
       "  <thead>\n",
       "    <tr style=\"text-align: right;\">\n",
       "      <th></th>\n",
       "      <th>County</th>\n",
       "      <th>State</th>\n",
       "      <th>Positive_Cases</th>\n",
       "      <th>Deaths</th>\n",
       "      <th>Elderly_pop</th>\n",
       "      <th>Young_pop</th>\n",
       "      <th>WHITE</th>\n",
       "      <th>NON_WHITE</th>\n",
       "      <th>NUM_STAFFED_BEDS</th>\n",
       "      <th>NUM_ICU_BEDS</th>\n",
       "      <th>...</th>\n",
       "      <th>max_temp</th>\n",
       "      <th>mean_temp</th>\n",
       "      <th>wind_speed</th>\n",
       "      <th>precipitation</th>\n",
       "      <th>station_pressure</th>\n",
       "      <th>dewpoint</th>\n",
       "      <th>Positive_Case_Rate_NORM</th>\n",
       "      <th>Death_Rate_NORM</th>\n",
       "      <th>cluster_3</th>\n",
       "      <th>cluster_5</th>\n",
       "    </tr>\n",
       "  </thead>\n",
       "  <tbody>\n",
       "    <tr>\n",
       "      <th>0</th>\n",
       "      <td>Abbeville</td>\n",
       "      <td>South Carolina</td>\n",
       "      <td>662</td>\n",
       "      <td>15</td>\n",
       "      <td>5483</td>\n",
       "      <td>19044</td>\n",
       "      <td>17223</td>\n",
       "      <td>7304</td>\n",
       "      <td>25</td>\n",
       "      <td>6</td>\n",
       "      <td>...</td>\n",
       "      <td>90.758065</td>\n",
       "      <td>69.976355</td>\n",
       "      <td>4.677007</td>\n",
       "      <td>0.167563</td>\n",
       "      <td>898.098646</td>\n",
       "      <td>62.160340</td>\n",
       "      <td>0.394896</td>\n",
       "      <td>0.245653</td>\n",
       "      <td>2</td>\n",
       "      <td>3</td>\n",
       "    </tr>\n",
       "    <tr>\n",
       "      <th>1</th>\n",
       "      <td>Acadia</td>\n",
       "      <td>Louisiana</td>\n",
       "      <td>3004</td>\n",
       "      <td>99</td>\n",
       "      <td>9796</td>\n",
       "      <td>52249</td>\n",
       "      <td>49435</td>\n",
       "      <td>12610</td>\n",
       "      <td>144</td>\n",
       "      <td>7</td>\n",
       "      <td>...</td>\n",
       "      <td>92.632258</td>\n",
       "      <td>77.037696</td>\n",
       "      <td>5.333303</td>\n",
       "      <td>0.190817</td>\n",
       "      <td>13.352873</td>\n",
       "      <td>67.284608</td>\n",
       "      <td>1.805767</td>\n",
       "      <td>1.881842</td>\n",
       "      <td>3</td>\n",
       "      <td>5</td>\n",
       "    </tr>\n",
       "    <tr>\n",
       "      <th>2</th>\n",
       "      <td>Accomack</td>\n",
       "      <td>Virginia</td>\n",
       "      <td>1188</td>\n",
       "      <td>19</td>\n",
       "      <td>7934</td>\n",
       "      <td>24382</td>\n",
       "      <td>21899</td>\n",
       "      <td>10417</td>\n",
       "      <td>46</td>\n",
       "      <td>10</td>\n",
       "      <td>...</td>\n",
       "      <td>89.606452</td>\n",
       "      <td>67.919534</td>\n",
       "      <td>6.623371</td>\n",
       "      <td>0.075634</td>\n",
       "      <td>19.100712</td>\n",
       "      <td>54.542831</td>\n",
       "      <td>1.038328</td>\n",
       "      <td>0.206368</td>\n",
       "      <td>2</td>\n",
       "      <td>3</td>\n",
       "    </tr>\n",
       "    <tr>\n",
       "      <th>3</th>\n",
       "      <td>Ada</td>\n",
       "      <td>Idaho</td>\n",
       "      <td>13886</td>\n",
       "      <td>153</td>\n",
       "      <td>71958</td>\n",
       "      <td>409629</td>\n",
       "      <td>442550</td>\n",
       "      <td>39037</td>\n",
       "      <td>1240</td>\n",
       "      <td>97</td>\n",
       "      <td>...</td>\n",
       "      <td>94.567742</td>\n",
       "      <td>63.664768</td>\n",
       "      <td>6.399353</td>\n",
       "      <td>0.041102</td>\n",
       "      <td>914.363960</td>\n",
       "      <td>37.794472</td>\n",
       "      <td>0.516267</td>\n",
       "      <td>-0.242972</td>\n",
       "      <td>2</td>\n",
       "      <td>3</td>\n",
       "    </tr>\n",
       "    <tr>\n",
       "      <th>4</th>\n",
       "      <td>Adair</td>\n",
       "      <td>Iowa</td>\n",
       "      <td>85</td>\n",
       "      <td>1</td>\n",
       "      <td>1648</td>\n",
       "      <td>5504</td>\n",
       "      <td>6966</td>\n",
       "      <td>186</td>\n",
       "      <td>25</td>\n",
       "      <td>4</td>\n",
       "      <td>...</td>\n",
       "      <td>86.000000</td>\n",
       "      <td>62.290353</td>\n",
       "      <td>8.698955</td>\n",
       "      <td>0.095547</td>\n",
       "      <td>968.789048</td>\n",
       "      <td>54.676341</td>\n",
       "      <td>-0.599813</td>\n",
       "      <td>-0.538734</td>\n",
       "      <td>1</td>\n",
       "      <td>4</td>\n",
       "    </tr>\n",
       "  </tbody>\n",
       "</table>\n",
       "<p>5 rows × 36 columns</p>\n",
       "</div>"
      ],
      "text/plain": [
       "      County           State  Positive_Cases  Deaths  Elderly_pop  Young_pop  \\\n",
       "0  Abbeville  South Carolina             662      15         5483      19044   \n",
       "1     Acadia       Louisiana            3004      99         9796      52249   \n",
       "2   Accomack        Virginia            1188      19         7934      24382   \n",
       "3        Ada           Idaho           13886     153        71958     409629   \n",
       "4      Adair            Iowa              85       1         1648       5504   \n",
       "\n",
       "    WHITE  NON_WHITE  NUM_STAFFED_BEDS  NUM_ICU_BEDS  ...   max_temp  \\\n",
       "0   17223       7304                25             6  ...  90.758065   \n",
       "1   49435      12610               144             7  ...  92.632258   \n",
       "2   21899      10417                46            10  ...  89.606452   \n",
       "3  442550      39037              1240            97  ...  94.567742   \n",
       "4    6966        186                25             4  ...  86.000000   \n",
       "\n",
       "   mean_temp  wind_speed  precipitation  station_pressure   dewpoint  \\\n",
       "0  69.976355    4.677007       0.167563        898.098646  62.160340   \n",
       "1  77.037696    5.333303       0.190817         13.352873  67.284608   \n",
       "2  67.919534    6.623371       0.075634         19.100712  54.542831   \n",
       "3  63.664768    6.399353       0.041102        914.363960  37.794472   \n",
       "4  62.290353    8.698955       0.095547        968.789048  54.676341   \n",
       "\n",
       "   Positive_Case_Rate_NORM  Death_Rate_NORM  cluster_3  cluster_5  \n",
       "0                 0.394896         0.245653          2          3  \n",
       "1                 1.805767         1.881842          3          5  \n",
       "2                 1.038328         0.206368          2          3  \n",
       "3                 0.516267        -0.242972          2          3  \n",
       "4                -0.599813        -0.538734          1          4  \n",
       "\n",
       "[5 rows x 36 columns]"
      ]
     },
     "execution_count": 2,
     "metadata": {},
     "output_type": "execute_result"
    }
   ],
   "source": [
    "covid_data = pd.read_csv(\"./Final_Covid_Data_Updated.csv\")\n",
    "covid_data.head()"
   ]
  },
  {
   "cell_type": "code",
   "execution_count": 3,
   "metadata": {},
   "outputs": [],
   "source": [
    "random.seed(42)\n",
    "ind_shuffle = random.sample(range(len(covid_data)), len(covid_data))\n",
    "covid_data_shuffled = covid_data.iloc[ind_shuffle,:]\n",
    "X_DF = covid_data_shuffled.iloc[:,2:-2].drop(columns=[\"Positive_Case_Rate\", \"Positive_Case_Rate_NORM\",\n",
    "                                                      \"Death_Rate_NORM\", \"Death_Rate\", \"Positive_Cases\", \"Deaths\"])"
   ]
  },
  {
   "cell_type": "code",
   "execution_count": 4,
   "metadata": {},
   "outputs": [],
   "source": [
    "X_DF=X_DF.drop(columns=[\"Elderly_pop\", \"Young_pop\", \"WHITE\", \"NON_WHITE\",\n",
    "                        \"NUM_STAFFED_BEDS\", \"min_temp\", \"max_temp\", \"lat\",\n",
    "                        \"dewpoint\",\"twentieth_percentile_income\", \"POP_TOTAL\"])"
   ]
  },
  {
   "cell_type": "code",
   "execution_count": 5,
   "metadata": {},
   "outputs": [],
   "source": [
    "X = np.array(X_DF)\n",
    "X = StandardScaler().fit_transform(X)\n",
    "y_3 = covid_data_shuffled[\"cluster_3\"]\n",
    "y_5 = covid_data_shuffled[\"cluster_5\"]"
   ]
  },
  {
   "cell_type": "code",
   "execution_count": 6,
   "metadata": {},
   "outputs": [],
   "source": [
    "X_train = X[:int(0.9*len(X))]\n",
    "X_test = X[int(0.9*len(X)):]\n",
    "y_3_train = y_3[:int(0.9*len(X))]\n",
    "y_3_test = y_3[int(0.9*len(X)):]\n",
    "y_5_train = y_5[:int(0.9*len(X))]\n",
    "y_5_test = y_5[int(0.9*len(X)):]"
   ]
  },
  {
   "cell_type": "code",
   "execution_count": 8,
   "metadata": {},
   "outputs": [],
   "source": [
    "SVM_Grid_Params = {\"kernel\": ['linear', 'poly', 'rbf', 'sigmoid'],\n",
    "                  \"gamma\" : ['scale', 'auto'],\n",
    "                  \"decision_function_shape\": ['ovo', 'ovr']}\n",
    "SVM_GRID_CLF = GridSearchCV(SVC(),\n",
    "                            SVM_Grid_Params,\n",
    "                            verbose = 1,\n",
    "                            cv = 20,\n",
    "                            n_jobs = -1)"
   ]
  },
  {
   "cell_type": "code",
   "execution_count": 9,
   "metadata": {
    "scrolled": true
   },
   "outputs": [
    {
     "name": "stdout",
     "output_type": "stream",
     "text": [
      "Fitting 20 folds for each of 16 candidates, totalling 320 fits\n"
     ]
    },
    {
     "name": "stderr",
     "output_type": "stream",
     "text": [
      "[Parallel(n_jobs=-1)]: Using backend LokyBackend with 8 concurrent workers.\n",
      "[Parallel(n_jobs=-1)]: Done  34 tasks      | elapsed:    3.3s\n",
      "[Parallel(n_jobs=-1)]: Done 184 tasks      | elapsed:   10.7s\n",
      "[Parallel(n_jobs=-1)]: Done 320 out of 320 | elapsed:   16.6s finished\n"
     ]
    },
    {
     "name": "stdout",
     "output_type": "stream",
     "text": [
      "{'decision_function_shape': 'ovo', 'gamma': 'scale', 'kernel': 'rbf'}\n"
     ]
    }
   ],
   "source": [
    "SVM_GRID_RS_Y3 = SVM_GRID_CLF.fit(X_train,y_3_train)\n",
    "print(SVM_GRID_RS_Y3.best_params_)"
   ]
  },
  {
   "cell_type": "code",
   "execution_count": 10,
   "metadata": {},
   "outputs": [
    {
     "name": "stdout",
     "output_type": "stream",
     "text": [
      "Train Accuracy: 0.7618033368832091\n",
      "Test Accuracy: 0.7261146496815286\n"
     ]
    }
   ],
   "source": [
    "BEST_SVM_CLF_Y3 = SVC(decision_function_shape = 'ovo', gamma = \"scale\", kernel = \"rbf\")\n",
    "BEST_SVM_CLF_Y3.fit(X_train, y_3_train)\n",
    "print(\"Train Accuracy:\", BEST_SVM_CLF_Y3.score(X_train,y_3_train))\n",
    "print(\"Test Accuracy:\", BEST_SVM_CLF_Y3.score(X_test,y_3_test))"
   ]
  },
  {
   "cell_type": "code",
   "execution_count": 11,
   "metadata": {
    "scrolled": true
   },
   "outputs": [
    {
     "name": "stdout",
     "output_type": "stream",
     "text": [
      "Feature: 0, Score: 0.00234\n",
      "Feature: 1, Score: 0.00511\n",
      "Feature: 2, Score: 0.00788\n",
      "Feature: 3, Score: 0.01093\n",
      "Feature: 4, Score: 0.01328\n",
      "Feature: 5, Score: 0.01647\n",
      "Feature: 6, Score: 0.01683\n",
      "Feature: 7, Score: 0.01747\n",
      "Feature: 8, Score: 0.01754\n",
      "Feature: 9, Score: 0.01853\n",
      "Feature: 10, Score: 0.02513\n",
      "Feature: 11, Score: 0.02670\n",
      "Feature: 12, Score: 0.03663\n",
      "Feature: 13, Score: 0.04352\n",
      "Feature: 14, Score: 0.05098\n"
     ]
    },
    {
     "data": {
      "image/png": "[encoded data removed]",
      "text/plain": [
       "<Figure size 720x648 with 1 Axes>"
      ]
     },
     "metadata": {
      "needs_background": "light"
     },
     "output_type": "display_data"
    }
   ],
   "source": [
    "# perform permutation importance\n",
    "results = permutation_importance(BEST_SVM_CLF_Y3, X_train, y_3_train, scoring='accuracy')\n",
    "# get importance\n",
    "importance = results.importances_mean\n",
    "ind_sorted=np.argsort(importance)\n",
    "importance_sorted = np.array(sorted(importance))\n",
    "# summarize feature importance\n",
    "for i,v in enumerate(importance_sorted):\n",
    "    print('Feature: %0d, Score: %.5f' % (i,v))\n",
    "# plot feature importance\n",
    "plt.figure(figsize=(10,9))\n",
    "plt.barh([x for x in range(len(importance_sorted))], importance_sorted)\n",
    "plt.yticks(np.arange(len(importance_sorted)), X_DF.columns[ind_sorted],rotation='horizontal')\n",
    "plt.xlabel(\"Feature Score\", fontsize=18)\n",
    "plt.show()"
   ]
  },
  {
   "cell_type": "code",
   "execution_count": 12,
   "metadata": {},
   "outputs": [
    {
     "name": "stdout",
     "output_type": "stream",
     "text": [
      "Fitting 20 folds for each of 16 candidates, totalling 320 fits\n"
     ]
    },
    {
     "name": "stderr",
     "output_type": "stream",
     "text": [
      "[Parallel(n_jobs=-1)]: Using backend LokyBackend with 8 concurrent workers.\n",
      "[Parallel(n_jobs=-1)]: Done  34 tasks      | elapsed:    2.1s\n",
      "[Parallel(n_jobs=-1)]: Done 184 tasks      | elapsed:    9.9s\n",
      "[Parallel(n_jobs=-1)]: Done 320 out of 320 | elapsed:   16.7s finished\n"
     ]
    },
    {
     "name": "stdout",
     "output_type": "stream",
     "text": [
      "{'decision_function_shape': 'ovo', 'gamma': 'scale', 'kernel': 'rbf'}\n"
     ]
    }
   ],
   "source": [
    "SVM_GRID_RS_Y5 = SVM_GRID_CLF.fit(X_train,y_5_train)\n",
    "print(SVM_GRID_RS_Y5.best_params_)"
   ]
  },
  {
   "cell_type": "code",
   "execution_count": 13,
   "metadata": {},
   "outputs": [
    {
     "name": "stdout",
     "output_type": "stream",
     "text": [
      "0.6687898089171974\n"
     ]
    }
   ],
   "source": [
    "BEST_SVM_CLF_Y5 = SVC(decision_function_shape = 'ovo', gamma = \"scale\", kernel = \"rbf\")\n",
    "BEST_SVM_CLF_Y5.fit(X_train, y_5_train)\n",
    "print(BEST_SVM_CLF_Y5.score(X_test,y_5_test))"
   ]
  },
  {
   "cell_type": "code",
   "execution_count": 14,
   "metadata": {},
   "outputs": [
    {
     "name": "stdout",
     "output_type": "stream",
     "text": [
      "Feature: 0, Score: 0.00298\n",
      "Feature: 1, Score: 0.00334\n",
      "Feature: 2, Score: 0.01399\n",
      "Feature: 3, Score: 0.01619\n",
      "Feature: 4, Score: 0.01754\n",
      "Feature: 5, Score: 0.01803\n",
      "Feature: 6, Score: 0.01952\n",
      "Feature: 7, Score: 0.02002\n",
      "Feature: 8, Score: 0.02293\n",
      "Feature: 9, Score: 0.02457\n",
      "Feature: 10, Score: 0.02840\n",
      "Feature: 11, Score: 0.03692\n",
      "Feature: 12, Score: 0.03749\n",
      "Feature: 13, Score: 0.04594\n",
      "Feature: 14, Score: 0.05793\n"
     ]
    },
    {
     "data": {
      "image/png": "[encoded data removed]",
      "text/plain": [
       "<Figure size 720x648 with 1 Axes>"
      ]
     },
     "metadata": {
      "needs_background": "light"
     },
     "output_type": "display_data"
    }
   ],
   "source": [
    "# perform permutation importance\n",
    "results = permutation_importance(BEST_SVM_CLF_Y5, X_train, y_5_train, scoring='accuracy')\n",
    "# get importance\n",
    "importance = results.importances_mean\n",
    "ind_sorted=np.argsort(importance)\n",
    "importance_sorted = np.array(sorted(importance))\n",
    "# summarize feature importance\n",
    "for i,v in enumerate(importance_sorted):\n",
    "    print('Feature: %0d, Score: %.5f' % (i,v))\n",
    "# plot feature importance\n",
    "plt.figure(figsize=(10,9))\n",
    "plt.barh([x for x in range(len(importance_sorted))], importance_sorted)\n",
    "plt.yticks(np.arange(len(importance_sorted)), X_DF.columns[ind_sorted],rotation='horizontal')\n",
    "plt.xlabel(\"Feature Score\", fontsize=18)\n",
    "plt.show()"
   ]
  },
  {
   "cell_type": "code",
   "execution_count": null,
   "metadata": {},
   "outputs": [],
   "source": []
  }
 ],
 "metadata": {
  "kernelspec": {
   "display_name": "Python 3",
   "language": "python",
   "name": "python3"
  },
  "language_info": {
   "codemirror_mode": {
    "name": "ipython",
    "version": 3
   },
   "file_extension": ".py",
   "mimetype": "text/x-python",
   "name": "python",
   "nbconvert_exporter": "python",
   "pygments_lexer": "ipython3",
   "version": "3.8.3"
  }
 },
 "nbformat": 4,
 "nbformat_minor": 4
}
